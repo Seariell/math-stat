{
  "nbformat": 4,
  "nbformat_minor": 0,
  "metadata": {
    "colab": {
      "name": "ДЗ 3.ipynb",
      "provenance": [],
      "authorship_tag": "ABX9TyOt2j76IhXZ93Q+qygh9OTD",
      "include_colab_link": true
    },
    "kernelspec": {
      "name": "python3",
      "display_name": "Python 3"
    }
  },
  "cells": [
    {
      "cell_type": "markdown",
      "metadata": {
        "id": "view-in-github",
        "colab_type": "text"
      },
      "source": [
        "<a href=\"https://colab.research.google.com/github/Seariell/math-stat/blob/lesson_3/%D0%94%D0%97_3.ipynb\" target=\"_parent\"><img src=\"https://colab.research.google.com/assets/colab-badge.svg\" alt=\"Open In Colab\"/></a>"
      ]
    },
    {
      "cell_type": "markdown",
      "metadata": {
        "id": "E7yOnzzOsGjf",
        "colab_type": "text"
      },
      "source": [
        "1. Даны значения зарплат из выборки выпускников: 100, 80, 75, 77, 89, 33, 45, 25, 65, 17, 30, 24, 57, 55, 70, 75, 65, 84, 90, 150. Посчитать (желательно без использования статистических методов наподобие std, var, mean) среднее арифметическое, среднее квадратичное отклонение, смещенную и несмещенную оценки дисперсий для данной выборки."
      ]
    },
    {
      "cell_type": "code",
      "metadata": {
        "id": "ihT8iCP2sNHb",
        "colab_type": "code",
        "colab": {
          "base_uri": "https://localhost:8080/",
          "height": 86
        },
        "outputId": "dda6a208-84bf-4deb-da8b-8404fcbbde43"
      },
      "source": [
        "def math_exp(sample):\n",
        "    return sum(sample)/len(sample)\n",
        "\n",
        "\n",
        "def mean_sq(sample):\n",
        "    result = 0\n",
        "    for itm in sample:\n",
        "        result += (itm - math_exp(sample))**2\n",
        "    result /= len(sample) - 1\n",
        "    return result\n",
        "\n",
        "\n",
        "def dispersion_offset(sample):\n",
        "    result = 0\n",
        "    for itm in sample:\n",
        "        result += (itm - math_exp(sample))**2\n",
        "    result /= len(sample)\n",
        "    return result**0.5\n",
        "\n",
        "\n",
        "def dispersion(sample):\n",
        "    return mean_sq(sample)**0.5\n",
        "\n",
        "\n",
        "salary = [100, 80, 75, 77, 89, 33, 45, 25, 65, 17, 30, 24, 57, 55, 70, 75, 65, 84, 90, 150]\n",
        "print(f'Оценка математического ожидания ожидания (среднее арифметическое) = {math_exp(salary)}%')\n",
        "print(f'Среднее квадратичное отклонение = {mean_sq(salary):.2f}%')\n",
        "print(f'Смещенная оценка дисперсии = {dispersion_offset(salary):.2f}%')\n",
        "print(f'Несмещенная оценка дисперсии = {dispersion(salary):.2f}%')"
      ],
      "execution_count": 1,
      "outputs": [
        {
          "output_type": "stream",
          "text": [
            "Оценка математического ожидания ожидания (среднее арифметическое) = 65.3%\n",
            "Среднее квадратичное отклонение = 1000.12%\n",
            "Смещенная оценка дисперсии = 30.82%\n",
            "Несмещенная оценка дисперсии = 31.62%\n"
          ],
          "name": "stdout"
        }
      ]
    },
    {
      "cell_type": "markdown",
      "metadata": {
        "id": "slahZCSisbpZ",
        "colab_type": "text"
      },
      "source": [
        "2. В первом ящике находится 8 мячей, из которых 5 - белые. Во втором ящике - 12 мячей, из которых 5 белых. Из первого ящика вытаскивают случайным образом два мяча, из второго - 4. Какова вероятность того, что 3 мяча белые?"
      ]
    },
    {
      "cell_type": "code",
      "metadata": {
        "id": "wL5G2wHXsfE5",
        "colab_type": "code",
        "colab": {
          "base_uri": "https://localhost:8080/",
          "height": 86
        },
        "outputId": "86182b6b-1a40-4da7-c420-75758c379a86"
      },
      "source": [
        "from math import factorial\n",
        "\n",
        "\n",
        "def combinations(k: int, n: int) -> int:\n",
        "    \"\"\"\n",
        "    Calculates the number of combinations from k in n\n",
        "\n",
        "    :param n: int\n",
        "    :param k: int\n",
        "    :return: int\n",
        "    \"\"\"\n",
        "    return int(factorial(n)/(factorial(k)*factorial(n - k)))\n",
        "\n",
        "\n",
        "box_1, box_1_white = 8, 5\n",
        "box_2, box_2_white = 12, 5\n",
        "pull_b1, pull_b2 = 2, 4\n",
        "\n",
        "\n",
        "# Два белых из первого и 1 белый из второго:\n",
        "p1 = combinations(pull_b1, box_1_white) / combinations(pull_b1, box_1) * \\\n",
        "     combinations(1, box_2_white) / combinations(1, box_2) * \\\n",
        "     combinations(3, box_2 - box_2_white) / combinations(3, box_2)\n",
        "print(f'Два белых из первого и 1 белый из второго = {p1*100:.2f}%')\n",
        "# Один белый из первого и два белых из второго:\n",
        "p2 = combinations(1, box_1_white) / combinations(1, box_1) * \\\n",
        "     combinations(1, box_1 - box_1_white) / combinations(1, box_1) * \\\n",
        "     combinations(2, box_2_white) / combinations(2, box_2) * \\\n",
        "     combinations(2, box_2 - box_2_white) / combinations(2, box_2)\n",
        "print(f'Один белый из первого и два белых из второго = {p2*100:.2f}%')\n",
        "# Три белых из второго:\n",
        "p3 = combinations(2, box_1 - box_1_white) / combinations(2, box_1) * \\\n",
        "     combinations(3, box_2_white) / combinations(3, box_2) * \\\n",
        "     combinations(1, box_2 - box_2_white) / combinations(1, box_2)\n",
        "print(f'Три белых из второго = {p3*100:.2f}%')\n",
        "p = p1 + p2 + p3\n",
        "print(f'Три белых = {p*100:.2f}%')"
      ],
      "execution_count": 2,
      "outputs": [
        {
          "output_type": "stream",
          "text": [
            "Два белых из первого и 1 белый из второго = 2.37%\n",
            "Один белый из первого и два белых из второго = 1.13%\n",
            "Три белых из второго = 0.28%\n",
            "Три белых = 3.78%\n"
          ],
          "name": "stdout"
        }
      ]
    },
    {
      "cell_type": "markdown",
      "metadata": {
        "id": "9pXfr7Tksx37",
        "colab_type": "text"
      },
      "source": [
        "3. На соревновании по биатлону один из трех спортсменов стреляет и попадает в мишень. Вероятность попадания для первого спортсмена равна 0.9, для второго — 0.8, для третьего — 0.6. Найти вероятность того, что выстрел произведен: a). первым спортсменом б). вторым спортсменом в). третьим спортсменом."
      ]
    },
    {
      "cell_type": "code",
      "metadata": {
        "id": "TEw8jzF6s23W",
        "colab_type": "code",
        "colab": {
          "base_uri": "https://localhost:8080/",
          "height": 86
        },
        "outputId": "9c404df2-9205-49a6-aedc-ebb0cc4fc944"
      },
      "source": [
        "def bayes(p_b, p_a_b, p_a):\n",
        "    return p_b * p_a_b / p_a\n",
        "\n",
        "\n",
        "sport_1, sport_2, sport_3 = 0.9, 0.8, 0.6\n",
        "\n",
        "# Вероятность попадания в мишень одним из спортсменов:\n",
        "p_hit = sport_1 / 3 + sport_2 / 3 + sport_3 / 3\n",
        "print(f'Вероятность попадания в мишень одним из спортсменов = {p_hit*100:.2f}%')\n",
        "\n",
        "# Вероятность попадания в мишень первым спортсменом:\n",
        "p_sport_1 = bayes(1/3, sport_1, p_hit)\n",
        "print(f'Вероятность попадания в мишень первым спортсменом = {p_sport_1*100:.2f}%')\n",
        "\n",
        "# Вероятность попадания в мишень вторым спортсменом:\n",
        "p_sport_2 = bayes(1/3, sport_2, p_hit)\n",
        "print(f'Вероятность попадания в мишень вторым спортсменом = {p_sport_2*100:.2f}%')\n",
        "\n",
        "# Вероятность попадания в мишень третьим спортсменом:\n",
        "p_sport_3 = bayes(1/3, sport_3, p_hit)\n",
        "print(f'Вероятность попадания в мишень третьим спортсменом = {p_sport_3*100:.2f}%')"
      ],
      "execution_count": 3,
      "outputs": [
        {
          "output_type": "stream",
          "text": [
            "Вероятность попадания в мишень одним из спортсменов = 76.67%\n",
            "Вероятность попадания в мишень первым спортсменом = 39.13%\n",
            "Вероятность попадания в мишень вторым спортсменом = 34.78%\n",
            "Вероятность попадания в мишень третьим спортсменом = 26.09%\n"
          ],
          "name": "stdout"
        }
      ]
    },
    {
      "cell_type": "markdown",
      "metadata": {
        "id": "ULIhZeOKtMud",
        "colab_type": "text"
      },
      "source": [
        "4. В университет на факультеты A и B поступило равное количество студентов, а на факультет C студентов поступило столько же, сколько на A и B вместе. Вероятность того, что студент факультета A сдаст первую сессию, равна 0.8. Для студента факультета B эта вероятность равна 0.7, а для студента факультета C - 0.9. Студент сдал первую сессию. Какова вероятность, что он учится: a). на факультете A б). на факультете B в). на факультете C?"
      ]
    },
    {
      "cell_type": "code",
      "metadata": {
        "id": "QQFwlRjftZ6y",
        "colab_type": "code",
        "colab": {
          "base_uri": "https://localhost:8080/",
          "height": 86
        },
        "outputId": "6a60e2bc-dba7-400f-893d-599178ebf3a9"
      },
      "source": [
        "student_a, student_b, student_c = 0.8, 0.7, 0.9\n",
        "fac_a, fac_b, fac_c = 1/4, 1/4, 1/2\n",
        "\n",
        "# Вероятность того, что студент сдал первую сессию:\n",
        "p_pass = fac_a * student_a + fac_b * student_b + fac_c * student_c\n",
        "print(f'Вероятность того, что студент сдал первую сессию = {p_pass*100:.2f}%')\n",
        "\n",
        "# Студент учится на факультете А:\n",
        "p_a = bayes(fac_a, student_a, p_pass)\n",
        "print(f'Вероятность того, что cтудент учится на факультете А = {p_a*100:.2f}%')\n",
        "\n",
        "# Студент учится на факультете B:\n",
        "p_b = bayes(fac_b, student_b, p_pass)\n",
        "print(f'Вероятность того, что cтудент учится на факультете B = {p_b*100:.2f}%')\n",
        "\n",
        "# Студент учится на факультете C:\n",
        "p_c = bayes(fac_c, student_c, p_pass)\n",
        "print(f'Вероятность того, что cтудент учится на факультете C = {p_c*100:.2f}%')"
      ],
      "execution_count": 4,
      "outputs": [
        {
          "output_type": "stream",
          "text": [
            "Вероятность того, что студент сдал первую сессию = 82.50%\n",
            "Вероятность того, что cтудент учится на факультете А = 24.24%\n",
            "Вероятность того, что cтудент учится на факультете B = 21.21%\n",
            "Вероятность того, что cтудент учится на факультете C = 54.55%\n"
          ],
          "name": "stdout"
        }
      ]
    },
    {
      "cell_type": "markdown",
      "metadata": {
        "id": "rXAZ5vkItiyT",
        "colab_type": "text"
      },
      "source": [
        "5.Устройство состоит из трех деталей. Для первой детали вероятность выйти из строя в первый месяц равна 0.1, для второй - 0.2, для третьей - 0.25. Какова вероятность того, что в первый месяц выйдут из строя: а). все детали б). только две детали в). хотя бы одна деталь г). от одной до двух деталей?"
      ]
    },
    {
      "cell_type": "code",
      "metadata": {
        "id": "pWSh87kBtl2U",
        "colab_type": "code",
        "colab": {
          "base_uri": "https://localhost:8080/",
          "height": 121
        },
        "outputId": "f432e0d7-19fc-4e43-d47f-3d901b07a697"
      },
      "source": [
        "piece_1, piece_2, piece_3 = 0.1, 0.2, 0.25\n",
        "\n",
        "# Вероятность того, что в первый месяц выйдут из строя все детали =\n",
        "p_all = piece_1 * piece_2 * piece_3\n",
        "print(f'Вероятность того, что в первый месяц выйдут из строя все детали = {p_all*100:.2f}%')\n",
        "\n",
        "# Вроятность того, что сломаются только две детали =\n",
        "p_two = piece_1 * piece_2 * (1 - piece_3) + piece_1 * (1 - piece_2) * piece_3 + (1 - piece_1) * piece_2 * piece_3\n",
        "print(f'Вроятность того, что сломаются только две детали = {p_two*100:.2f}%')\n",
        "\n",
        "# Вероятность того, что ни одна деталь не сломается =\n",
        "p_none = (1 - piece_1) * (1 - piece_2) * (1 - piece_3)\n",
        "print(f'Вероятность того, что ни одна не сломается = {p_none*100:.0f}%')\n",
        "# Вероятность того, что сломается хотя бы одна деталь =\n",
        "print(f'Вероятность того, что сломается хотя бы одна деталь = {(1-p_none)*100:.0f}%')\n",
        "\n",
        "# Вероятность того, что сломается только одна деталь =\n",
        "p_one = piece_1*(1 - piece_2)*(1 - piece_3) + (1 - piece_1)*piece_2*(1 - piece_3) + (1 - piece_1)*(1 - piece_2)*piece_3\n",
        "print(f'Вероятность того, что сломается только одна деталь = {p_one*100:.2f}%')\n",
        "\n",
        "# Вероятность того, что сломаются от одной до двух деталей =\n",
        "print(f'Вероятность того, что сломаются от одной до двух деталей = {(p_one + p_two)*100:.2f}%')"
      ],
      "execution_count": 5,
      "outputs": [
        {
          "output_type": "stream",
          "text": [
            "Вероятность того, что в первый месяц выйдут из строя все детали = 0.50%\n",
            "Вроятность того, что сломаются только две детали = 8.00%\n",
            "Вероятность того, что ни одна не сломается = 54%\n",
            "Вероятность того, что сломается хотя бы одна деталь = 46%\n",
            "Вероятность того, что сломается только одна деталь = 37.50%\n",
            "Вероятность того, что сломаются от одной до двух деталей = 45.50%\n"
          ],
          "name": "stdout"
        }
      ]
    }
  ]
}