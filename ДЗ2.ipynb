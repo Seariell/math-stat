{
  "nbformat": 4,
  "nbformat_minor": 0,
  "metadata": {
    "colab": {
      "name": "ДЗ2.ipynb",
      "provenance": [],
      "authorship_tag": "ABX9TyPH+2kS+qOEsfNusiFLLCPU",
      "include_colab_link": true
    },
    "kernelspec": {
      "name": "python3",
      "display_name": "Python 3"
    }
  },
  "cells": [
    {
      "cell_type": "markdown",
      "metadata": {
        "id": "view-in-github",
        "colab_type": "text"
      },
      "source": [
        "<a href=\"https://colab.research.google.com/github/Seariell/math-stat/blob/lesson_2/%D0%94%D0%972.ipynb\" target=\"_parent\"><img src=\"https://colab.research.google.com/assets/colab-badge.svg\" alt=\"Open In Colab\"/></a>"
      ]
    },
    {
      "cell_type": "markdown",
      "metadata": {
        "id": "Fhwp9PeDeJF3",
        "colab_type": "text"
      },
      "source": [
        "Вероятность того, что стрелок попадет в мишень, выстрелив один раз, равна 0.8.\n",
        "Стрелок выстрелил 100 раз. Найдите вероятность того, что стрелок попадет в цель ровно 85 раз."
      ]
    },
    {
      "cell_type": "code",
      "metadata": {
        "id": "MXahtNyeeVk9",
        "colab_type": "code",
        "colab": {
          "base_uri": "https://localhost:8080/",
          "height": 34
        },
        "outputId": "b7c5aaca-fd14-4ee0-f3ac-ada3e9f5ac8c"
      },
      "source": [
        "from math import factorial\n",
        "\n",
        "\n",
        "def combinations(k: int, n: int) -> int:\n",
        "    \"\"\"\n",
        "    Calculates the number of combinations from k in n\n",
        "\n",
        "    :param n: int\n",
        "    :param k: int\n",
        "    :return: int\n",
        "    \"\"\"\n",
        "    return int(factorial(n)/(factorial(k)*factorial(n - k)))\n",
        "\n",
        "\n",
        "def bernul(k: int, n: int, p: float) -> float:\n",
        "    \"\"\"\n",
        "    Сalculation of probability using the Bernoulli formula\n",
        "\n",
        "    :param k: int\n",
        "    :param n: int\n",
        "    :param p: float\n",
        "    :return: float\n",
        "    \"\"\"\n",
        "    q = 1 - p\n",
        "    return combinations(k, n) * (p ** k) * (q ** (n - k))\n",
        "\n",
        "\n",
        "# Вероятность попадания высока, используем формулу Бернулли:\n",
        "p_shooter = 0.8\n",
        "n_of_shoots = 100\n",
        "n_of_hits = 85\n",
        "p_85 = bernul(n_of_hits, n_of_shoots, p_shooter)\n",
        "\n",
        "# Результат = 4.81%\n",
        "print(f'Вероятность того, что стрелок попадет в цель ровно 85 раз = {p_85 * 100:.2f}%')"
      ],
      "execution_count": 2,
      "outputs": [
        {
          "output_type": "stream",
          "text": [
            "Вероятность того, что стрелок попадет в цель ровно 85 раз = 4.81%\n"
          ],
          "name": "stdout"
        }
      ]
    },
    {
      "cell_type": "markdown",
      "metadata": {
        "id": "l3LZhNwafJBC",
        "colab_type": "text"
      },
      "source": [
        "Вероятность того, что лампочка перегорит в течение первого дня эксплуатации, равна 0.0004.\n",
        "В жилом комплексе после ремонта в один день включили 5000 новых лампочек.\n",
        "Какова вероятность, что ни одна из них не перегорит в первый день?\n",
        "Какова вероятность, что перегорят ровно две?"
      ]
    },
    {
      "cell_type": "code",
      "metadata": {
        "id": "uZtS1e-FfMme",
        "colab_type": "code",
        "colab": {
          "base_uri": "https://localhost:8080/",
          "height": 52
        },
        "outputId": "2e9efebc-ad4e-4b22-8285-6f486a5097f0"
      },
      "source": [
        "from math import exp\n",
        "\n",
        "\n",
        "def puasson(m: int, n: int, p: float) -> float:\n",
        "    \"\"\"\n",
        "    Calculation of probability using the Poisson formula\n",
        "    :param m: int\n",
        "    :param n: int\n",
        "    :param p: float\n",
        "    :return: float\n",
        "    \"\"\"\n",
        "    lmbda = p * n\n",
        "    return lmbda ** m / factorial(m) * exp(-lmbda)\n",
        "\n",
        "\n",
        "# Вероятность мала, число испытаний большое, нужна формула Пуассона.\n",
        "burnout_0 = 0\n",
        "burnout_2 = 2\n",
        "switches = 5000\n",
        "prob_of_burnout = 0.0004\n",
        "# Вероятность, что ни одна из них не перегорит в первый день = 13.53%\n",
        "p_0 = puasson(burnout_0, switches, prob_of_burnout)\n",
        "print(f'Вероятность, что ни одна из них не перегорит в первый день = {p_0 * 100:.2f}%')\n",
        "# Вероятность, что перегорят ровно две = 27.07%\n",
        "p_2 = puasson(burnout_2, switches, prob_of_burnout)\n",
        "print(f'Вероятность, что перегорят ровно две = {p_2*100:.2f}%')"
      ],
      "execution_count": 3,
      "outputs": [
        {
          "output_type": "stream",
          "text": [
            "Вероятность, что ни одна из них не перегорит в первый день = 13.53%\n",
            "Вероятность, что перегорят ровно две = 27.07%\n"
          ],
          "name": "stdout"
        }
      ]
    },
    {
      "cell_type": "markdown",
      "metadata": {
        "id": "8BAXPneLfzCx",
        "colab_type": "text"
      },
      "source": [
        "Монету подбросили 144 раза. Какова вероятность, что орел выпадет ровно 70 раз?"
      ]
    },
    {
      "cell_type": "code",
      "metadata": {
        "id": "p9U9HQVIf7x6",
        "colab_type": "code",
        "colab": {
          "base_uri": "https://localhost:8080/",
          "height": 34
        },
        "outputId": "02a05db6-7189-4a0e-85c3-13e1098a5299"
      },
      "source": [
        "throw = 144\n",
        "eagle = 70\n",
        "prob_of_eagle = 0.5\n",
        "\n",
        "# Вероятность, что орел выпадет ровно 70 раз = 6.28%\n",
        "p_70 = bernul(eagle, throw, prob_of_eagle)\n",
        "print(f'Вероятность, что орел выпадет ровно 70 раз = {p_70*100:.2f}%')"
      ],
      "execution_count": 4,
      "outputs": [
        {
          "output_type": "stream",
          "text": [
            "Вероятность, что орел выпадет ровно 70 раз = 6.28%\n"
          ],
          "name": "stdout"
        }
      ]
    },
    {
      "cell_type": "markdown",
      "metadata": {
        "id": "oIrm8VXpgH8I",
        "colab_type": "text"
      },
      "source": [
        "В первом ящике находится 10 мячей, из которых 7 - белые.\n",
        "Во втором ящике - 11 мячей, из которых 9 белых.\n",
        "Из каждого ящика вытаскивают случайным образом по два мяча.\n",
        "Какова вероятность того, что все мячи белые?\n",
        "Какова вероятность того, что ровно два мяча белые?\n",
        "Какова вероятность того, что хотя бы один мяч белый?"
      ]
    },
    {
      "cell_type": "code",
      "metadata": {
        "id": "OK_UdMp4gMJI",
        "colab_type": "code",
        "colab": {
          "base_uri": "https://localhost:8080/",
          "height": 121
        },
        "outputId": "b3b06c3b-92fd-44b5-9b86-30b5a02db820"
      },
      "source": [
        "balls_1 = 10\n",
        "b1_white = 7\n",
        "balls_2 = 11\n",
        "b2_white = 9\n",
        "\n",
        "# Вероятность того, что все мячи белые = 30.55%\n",
        "all_white_b1 = combinations(2, b1_white) / combinations(2, balls_1)\n",
        "all_white_b2 = combinations(2, b2_white) / combinations(2, balls_2)\n",
        "all_white = all_white_b1 * all_white_b2\n",
        "print(f'Вероятность того, что все мячи белые = {all_white*100:.2f}%')\n",
        "\n",
        "# Вероятность того, что хотя бы один мяч белый = 99.88%\n",
        "none_white_b1 = combinations(2, balls_1 - b1_white) / combinations(2, balls_1)\n",
        "none_white_b2 = combinations(2, balls_2 - b2_white) / combinations(2, balls_2)\n",
        "none_white = none_white_b1 * none_white_b2\n",
        "print(f'Вероятность того, что хотя бы один мяч белый = {(1 - none_white)*100:.2f}%')\n",
        "\n",
        "# Два белых только из первой = 0.85%\n",
        "only_b1_white = all_white_b1 * none_white_b2\n",
        "print(f'Два белых только из первой коробки= {only_b1_white*100:.2f}%')\n",
        "\n",
        "# Два белых только из второй = 4.36%\n",
        "only_b2_white = all_white_b2 * none_white_b1\n",
        "print(f'Два белых только из второй коробки = {only_b2_white*100:.2f}%')\n",
        "\n",
        "# По одному белому из каждой = 3.82%\n",
        "one_white_b1 = (b1_white / balls_1) * (balls_1 - b1_white) / (balls_1 - 1)\n",
        "one_white_b2 = (b2_white / balls_2) * (balls_2 - b2_white) / (balls_2 - 1)\n",
        "one_white_of_each = one_white_b1 * one_white_b2\n",
        "print(f'По одному белому из каждой коробки = {one_white_of_each*100:.2f}%')\n",
        "\n",
        "# Вероятность того, что ровно два мяча белые = 9.03%\n",
        "two_white = only_b1_white + only_b2_white + one_white_of_each\n",
        "print(f'Вероятность того, что ровно два мяча белые = {two_white*100:.2f}%')\n"
      ],
      "execution_count": 5,
      "outputs": [
        {
          "output_type": "stream",
          "text": [
            "Вероятность того, что все мячи белые = 30.55%\n",
            "Вероятность того, что хотя бы один мяч белый = 99.88%\n",
            "Два белых только из первой коробки= 0.85%\n",
            "Два белых только из второй коробки = 4.36%\n",
            "По одному белому из каждой коробки = 3.82%\n",
            "Вероятность того, что ровно два мяча белые = 9.03%\n"
          ],
          "name": "stdout"
        }
      ]
    }
  ]
}