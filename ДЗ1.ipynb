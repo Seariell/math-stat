{
  "nbformat": 4,
  "nbformat_minor": 0,
  "metadata": {
    "colab": {
      "name": "ДЗ1.ipynb",
      "provenance": [],
      "authorship_tag": "ABX9TyMgXw+LpAByt5fzY/A5ElVq",
      "include_colab_link": true
    },
    "kernelspec": {
      "name": "python3",
      "display_name": "Python 3"
    }
  },
  "cells": [
    {
      "cell_type": "markdown",
      "metadata": {
        "id": "view-in-github",
        "colab_type": "text"
      },
      "source": [
        "<a href=\"https://colab.research.google.com/github/Seariell/math-stat/blob/lesson_1/%D0%94%D0%971.ipynb\" target=\"_parent\"><img src=\"https://colab.research.google.com/assets/colab-badge.svg\" alt=\"Open In Colab\"/></a>"
      ]
    },
    {
      "cell_type": "markdown",
      "metadata": {
        "id": "_Snfxxl2aQRZ",
        "colab_type": "text"
      },
      "source": [
        "Из колоды в 52 карты извлекаются случайным образом 4 карты.\n",
        "a) Найти вероятность того, что все карты – крести.\n",
        "б) Найти вероятность, что среди 4-х карт окажется ХОТЯ БЫ один туз."
      ]
    },
    {
      "cell_type": "code",
      "metadata": {
        "id": "zPMFX0bCaXZP",
        "colab_type": "code",
        "colab": {
          "base_uri": "https://localhost:8080/",
          "height": 52
        },
        "outputId": "b879cb53-9b92-4087-b871-b975da1807e5"
      },
      "source": [
        "from math import factorial\n",
        "\n",
        "\n",
        "def combinations(k: int, n: int) -> int:\n",
        "    \"\"\"\n",
        "    Calculates the number of combinations from k in n\n",
        "\n",
        "    :param n: int\n",
        "    :param k: int\n",
        "    :return: int\n",
        "    \"\"\"\n",
        "    return int(factorial(n)/(factorial(k)*factorial(n - k)))\n",
        "\n",
        "\n",
        "# Общее число наборов по 4 карты из 52:\n",
        "num = combinations(4, 52)\n",
        "\n",
        "# Из них число наборов из одной масти:\n",
        "clubs = combinations(4, 13)\n",
        "\n",
        "# Вероятность того, что все карты крести:\n",
        "p_clubs = clubs / num\n",
        "\n",
        "# Число наборов с тузами:\n",
        "aces = 0\n",
        "for i in range(1, 5):\n",
        "    aces += combinations(i, 4) * combinations(4 - i, 48)\n",
        "\n",
        "# Вероятность появления набора с тузами:\n",
        "p_aces = aces / num\n",
        "\n",
        "print(f'Вероятность того, что все карты крести = {p_clubs * 100 :.2f}%')\n",
        "print(f'Вероятность того, что среди 4-х карт окажется ХОТЯ БЫ один туз = {p_aces * 100 :.2f}%')"
      ],
      "execution_count": 4,
      "outputs": [
        {
          "output_type": "stream",
          "text": [
            "Вероятность того, что все карты крести = 0.26%\n",
            "Вероятность того, что среди 4-х карт окажется ХОТЯ БЫ один туз = 28.13%\n"
          ],
          "name": "stdout"
        }
      ]
    },
    {
      "cell_type": "markdown",
      "metadata": {
        "id": "VLtsI6cibNQb",
        "colab_type": "text"
      },
      "source": [
        "На входной двери подъезда установлен кодовый замок, содержащий десять кнопок с цифрами от 0 до 9.\n",
        "Код содержит три цифры, которые нужно нажать одновременно. Какова вероятность того,\n",
        "что человек, не знающий код, откроет дверь с первой попытки?"
      ]
    },
    {
      "cell_type": "code",
      "metadata": {
        "id": "bl0B1G07bVM6",
        "colab_type": "code",
        "colab": {
          "base_uri": "https://localhost:8080/",
          "height": 34
        },
        "outputId": "dfce2e9a-0c7a-4eb5-8aae-e7a9ffa8eea6"
      },
      "source": [
        "# Количество возможных сочетиний кнопок:\n",
        "n = combinations(3, 10)\n",
        "\n",
        "# Вероятность отгадать код с первой попытки:\n",
        "p = 1 / n\n",
        "\n",
        "\n",
        "print(f'Вероятность отгадать код с первой попытки = {(p * 100):.2f}%')"
      ],
      "execution_count": 3,
      "outputs": [
        {
          "output_type": "stream",
          "text": [
            "Вероятность отгадать код с первой попытки = 0.83%\n"
          ],
          "name": "stdout"
        }
      ]
    },
    {
      "cell_type": "markdown",
      "metadata": {
        "id": "Dm3SSbdYb3WI",
        "colab_type": "text"
      },
      "source": [
        "В ящике имеется 15 деталей, из которых 9 окрашены.\n",
        "Рабочий случайным образом извлекает 3 детали.\n",
        "Какова вероятность того, что все извлеченные детали окрашены?"
      ]
    },
    {
      "cell_type": "code",
      "metadata": {
        "id": "B9ErwVZ3b6Py",
        "colab_type": "code",
        "colab": {
          "base_uri": "https://localhost:8080/",
          "height": 52
        },
        "outputId": "c1cb2a64-b861-45dc-c7ca-bc193f5858a3"
      },
      "source": [
        "# Вероятность взять третью окрашенную делаль подряд через формулу зависимых событий:\n",
        "print(f'{9/15 * 8/14 * 7/13 * 100:.4f}%')\n",
        "\n",
        "# Вероятность взять три окрашенные детали разом:\n",
        "m = combinations(3, 9)\n",
        "n = combinations(3, 15)\n",
        "p = m / n\n",
        "print(f'{p * 100 :.4f}%')"
      ],
      "execution_count": 5,
      "outputs": [
        {
          "output_type": "stream",
          "text": [
            "18.4615%\n",
            "18.4615%\n"
          ],
          "name": "stdout"
        }
      ]
    },
    {
      "cell_type": "markdown",
      "metadata": {
        "id": "8O7hvCpYcFgl",
        "colab_type": "text"
      },
      "source": [
        "В лотерее 100 билетов. Из них 2 выигрышных. Какова вероятность того, что 2 приобретенных билета\n",
        "окажутся выигрышными?"
      ]
    },
    {
      "cell_type": "code",
      "metadata": {
        "id": "3p4Jtz5acHrL",
        "colab_type": "code",
        "colab": {
          "base_uri": "https://localhost:8080/",
          "height": 34
        },
        "outputId": "088f004c-9c24-4877-a60e-f5d4679f93a5"
      },
      "source": [
        "# Вероятность купить оба призовых билета из тиража в 100 шт:\n",
        "p = 1 / combinations(2, 100)\n",
        "print(f'{p * 100:.4f}%')"
      ],
      "execution_count": 6,
      "outputs": [
        {
          "output_type": "stream",
          "text": [
            "0.0202%\n"
          ],
          "name": "stdout"
        }
      ]
    }
  ]
}